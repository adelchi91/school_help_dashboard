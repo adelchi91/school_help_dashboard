{
 "cells": [
  {
   "cell_type": "code",
   "execution_count": 1,
   "id": "3ee1e3cb-ce88-408c-9c63-77a0bdc13b57",
   "metadata": {},
   "outputs": [],
   "source": [
    "import pandas as pd\n",
    "from sklearn.model_selection import train_test_split, cross_val_score, GridSearchCV\n",
    "from sklearn.ensemble import RandomForestRegressor\n",
    "from sklearn.metrics import mean_squared_error, mean_absolute_error, r2_score\n",
    "from sklearn.pipeline import Pipeline\n",
    "from sklearn.compose import ColumnTransformer\n",
    "from sklearn.preprocessing import OneHotEncoder\n",
    "from sklearn.linear_model import Ridge\n",
    "from xgboost import XGBRegressor\n",
    "\n",
    "\n",
    "pd.set_option('display.max_columns', None)\n"
   ]
  },
  {
   "cell_type": "code",
   "execution_count": 2,
   "id": "423c7040-f6fe-47ee-94ee-c7e221f6c96d",
   "metadata": {},
   "outputs": [
    {
     "name": "stdout",
     "output_type": "stream",
     "text": [
      "exercice_data.csv\n"
     ]
    }
   ],
   "source": [
    "!ls *.csv"
   ]
  },
  {
   "cell_type": "code",
   "execution_count": 3,
   "id": "f2bccee8-e26d-4dda-b332-ff846325530b",
   "metadata": {},
   "outputs": [
    {
     "name": "stderr",
     "output_type": "stream",
     "text": [
      "/tmp/ipykernel_5013/4032176105.py:1: ParserWarning: Falling back to the 'python' engine because the 'c' engine does not support sep=None with delim_whitespace=False; you can avoid this warning by specifying engine='python'.\n",
      "  df = pd.read_csv(\"exercice_data.csv\", sep=None, encoding='latin1')\n"
     ]
    },
    {
     "data": {
      "text/html": [
       "<div>\n",
       "<style scoped>\n",
       "    .dataframe tbody tr th:only-of-type {\n",
       "        vertical-align: middle;\n",
       "    }\n",
       "\n",
       "    .dataframe tbody tr th {\n",
       "        vertical-align: top;\n",
       "    }\n",
       "\n",
       "    .dataframe thead th {\n",
       "        text-align: right;\n",
       "    }\n",
       "</style>\n",
       "<table border=\"1\" class=\"dataframe\">\n",
       "  <thead>\n",
       "    <tr style=\"text-align: right;\">\n",
       "      <th></th>\n",
       "      <th>StudentID</th>\n",
       "      <th>FirstName</th>\n",
       "      <th>FamilyName</th>\n",
       "      <th>sex</th>\n",
       "      <th>age</th>\n",
       "      <th>address</th>\n",
       "      <th>famsize</th>\n",
       "      <th>Pstatus</th>\n",
       "      <th>Medu</th>\n",
       "      <th>Fedu</th>\n",
       "      <th>Mjob</th>\n",
       "      <th>Fjob</th>\n",
       "      <th>reason</th>\n",
       "      <th>guardian</th>\n",
       "      <th>traveltime</th>\n",
       "      <th>studytime</th>\n",
       "      <th>failures</th>\n",
       "      <th>schoolsup</th>\n",
       "      <th>famsup</th>\n",
       "      <th>paid</th>\n",
       "      <th>activities</th>\n",
       "      <th>nursery</th>\n",
       "      <th>higher</th>\n",
       "      <th>internet</th>\n",
       "      <th>romantic</th>\n",
       "      <th>famrel</th>\n",
       "      <th>freetime</th>\n",
       "      <th>goout</th>\n",
       "      <th>Dalc</th>\n",
       "      <th>Walc</th>\n",
       "      <th>health</th>\n",
       "      <th>absences</th>\n",
       "      <th>FinalGrade</th>\n",
       "    </tr>\n",
       "  </thead>\n",
       "  <tbody>\n",
       "    <tr>\n",
       "      <th>0</th>\n",
       "      <td>0</td>\n",
       "      <td>Rafael</td>\n",
       "      <td>Morais</td>\n",
       "      <td>F</td>\n",
       "      <td>18</td>\n",
       "      <td>U</td>\n",
       "      <td>GT3</td>\n",
       "      <td>A</td>\n",
       "      <td>4</td>\n",
       "      <td>4</td>\n",
       "      <td>at_home</td>\n",
       "      <td>teacher</td>\n",
       "      <td>course</td>\n",
       "      <td>mother</td>\n",
       "      <td>2</td>\n",
       "      <td>2</td>\n",
       "      <td>0</td>\n",
       "      <td>yes</td>\n",
       "      <td>no</td>\n",
       "      <td>no</td>\n",
       "      <td>no</td>\n",
       "      <td>yes</td>\n",
       "      <td>yes</td>\n",
       "      <td>no</td>\n",
       "      <td>no</td>\n",
       "      <td>4</td>\n",
       "      <td>3</td>\n",
       "      <td>4</td>\n",
       "      <td>1</td>\n",
       "      <td>1</td>\n",
       "      <td>3</td>\n",
       "      <td>6</td>\n",
       "      <td>6</td>\n",
       "    </tr>\n",
       "    <tr>\n",
       "      <th>1</th>\n",
       "      <td>1</td>\n",
       "      <td>Lara</td>\n",
       "      <td>Braga</td>\n",
       "      <td>F</td>\n",
       "      <td>17</td>\n",
       "      <td>U</td>\n",
       "      <td>GT3</td>\n",
       "      <td>T</td>\n",
       "      <td>1</td>\n",
       "      <td>1</td>\n",
       "      <td>at_home</td>\n",
       "      <td>other</td>\n",
       "      <td>course</td>\n",
       "      <td>father</td>\n",
       "      <td>1</td>\n",
       "      <td>2</td>\n",
       "      <td>0</td>\n",
       "      <td>no</td>\n",
       "      <td>yes</td>\n",
       "      <td>no</td>\n",
       "      <td>no</td>\n",
       "      <td>no</td>\n",
       "      <td>yes</td>\n",
       "      <td>yes</td>\n",
       "      <td>no</td>\n",
       "      <td>5</td>\n",
       "      <td>3</td>\n",
       "      <td>3</td>\n",
       "      <td>1</td>\n",
       "      <td>1</td>\n",
       "      <td>3</td>\n",
       "      <td>4</td>\n",
       "      <td>6</td>\n",
       "    </tr>\n",
       "    <tr>\n",
       "      <th>2</th>\n",
       "      <td>2</td>\n",
       "      <td>Gonçalo</td>\n",
       "      <td>Azevedo</td>\n",
       "      <td>F</td>\n",
       "      <td>15</td>\n",
       "      <td>U</td>\n",
       "      <td>LE3</td>\n",
       "      <td>T</td>\n",
       "      <td>1</td>\n",
       "      <td>1</td>\n",
       "      <td>at_home</td>\n",
       "      <td>other</td>\n",
       "      <td>other</td>\n",
       "      <td>mother</td>\n",
       "      <td>1</td>\n",
       "      <td>2</td>\n",
       "      <td>3</td>\n",
       "      <td>yes</td>\n",
       "      <td>no</td>\n",
       "      <td>yes</td>\n",
       "      <td>no</td>\n",
       "      <td>yes</td>\n",
       "      <td>yes</td>\n",
       "      <td>yes</td>\n",
       "      <td>no</td>\n",
       "      <td>4</td>\n",
       "      <td>3</td>\n",
       "      <td>2</td>\n",
       "      <td>2</td>\n",
       "      <td>3</td>\n",
       "      <td>3</td>\n",
       "      <td>10</td>\n",
       "      <td>10</td>\n",
       "    </tr>\n",
       "    <tr>\n",
       "      <th>3</th>\n",
       "      <td>3</td>\n",
       "      <td>Lara</td>\n",
       "      <td>Perna</td>\n",
       "      <td>F</td>\n",
       "      <td>15</td>\n",
       "      <td>U</td>\n",
       "      <td>GT3</td>\n",
       "      <td>T</td>\n",
       "      <td>4</td>\n",
       "      <td>2</td>\n",
       "      <td>health</td>\n",
       "      <td>services</td>\n",
       "      <td>home</td>\n",
       "      <td>mother</td>\n",
       "      <td>1</td>\n",
       "      <td>3</td>\n",
       "      <td>0</td>\n",
       "      <td>no</td>\n",
       "      <td>yes</td>\n",
       "      <td>yes</td>\n",
       "      <td>yes</td>\n",
       "      <td>yes</td>\n",
       "      <td>yes</td>\n",
       "      <td>yes</td>\n",
       "      <td>yes</td>\n",
       "      <td>3</td>\n",
       "      <td>2</td>\n",
       "      <td>2</td>\n",
       "      <td>1</td>\n",
       "      <td>1</td>\n",
       "      <td>5</td>\n",
       "      <td>2</td>\n",
       "      <td>15</td>\n",
       "    </tr>\n",
       "    <tr>\n",
       "      <th>4</th>\n",
       "      <td>4</td>\n",
       "      <td>João</td>\n",
       "      <td>Pires</td>\n",
       "      <td>F</td>\n",
       "      <td>16</td>\n",
       "      <td>U</td>\n",
       "      <td>GT3</td>\n",
       "      <td>T</td>\n",
       "      <td>3</td>\n",
       "      <td>3</td>\n",
       "      <td>other</td>\n",
       "      <td>other</td>\n",
       "      <td>home</td>\n",
       "      <td>father</td>\n",
       "      <td>1</td>\n",
       "      <td>2</td>\n",
       "      <td>0</td>\n",
       "      <td>no</td>\n",
       "      <td>yes</td>\n",
       "      <td>yes</td>\n",
       "      <td>no</td>\n",
       "      <td>yes</td>\n",
       "      <td>yes</td>\n",
       "      <td>no</td>\n",
       "      <td>no</td>\n",
       "      <td>4</td>\n",
       "      <td>3</td>\n",
       "      <td>2</td>\n",
       "      <td>1</td>\n",
       "      <td>2</td>\n",
       "      <td>5</td>\n",
       "      <td>4</td>\n",
       "      <td>10</td>\n",
       "    </tr>\n",
       "  </tbody>\n",
       "</table>\n",
       "</div>"
      ],
      "text/plain": [
       "   StudentID FirstName FamilyName sex  age address famsize Pstatus  Medu  \\\n",
       "0          0    Rafael     Morais   F   18       U     GT3       A     4   \n",
       "1          1      Lara      Braga   F   17       U     GT3       T     1   \n",
       "2          2   Gonçalo    Azevedo   F   15       U     LE3       T     1   \n",
       "3          3      Lara      Perna   F   15       U     GT3       T     4   \n",
       "4          4      João      Pires   F   16       U     GT3       T     3   \n",
       "\n",
       "   Fedu     Mjob      Fjob  reason guardian  traveltime  studytime  failures  \\\n",
       "0     4  at_home   teacher  course   mother           2          2         0   \n",
       "1     1  at_home     other  course   father           1          2         0   \n",
       "2     1  at_home     other   other   mother           1          2         3   \n",
       "3     2   health  services    home   mother           1          3         0   \n",
       "4     3    other     other    home   father           1          2         0   \n",
       "\n",
       "  schoolsup famsup paid activities nursery higher internet romantic  famrel  \\\n",
       "0       yes     no   no         no     yes    yes       no       no       4   \n",
       "1        no    yes   no         no      no    yes      yes       no       5   \n",
       "2       yes     no  yes         no     yes    yes      yes       no       4   \n",
       "3        no    yes  yes        yes     yes    yes      yes      yes       3   \n",
       "4        no    yes  yes         no     yes    yes       no       no       4   \n",
       "\n",
       "   freetime  goout  Dalc  Walc  health  absences  FinalGrade  \n",
       "0         3      4     1     1       3         6           6  \n",
       "1         3      3     1     1       3         4           6  \n",
       "2         3      2     2     3       3        10          10  \n",
       "3         2      2     1     1       5         2          15  \n",
       "4         3      2     1     2       5         4          10  "
      ]
     },
     "execution_count": 3,
     "metadata": {},
     "output_type": "execute_result"
    }
   ],
   "source": [
    "df = pd.read_csv(\"exercice_data.csv\", sep=None, encoding='latin1')\n",
    "df.head()"
   ]
  },
  {
   "cell_type": "code",
   "execution_count": 4,
   "id": "5986bcd8-31e0-493b-8332-bb14b2d3f755",
   "metadata": {},
   "outputs": [
    {
     "data": {
      "text/plain": [
       "(357, 33)"
      ]
     },
     "execution_count": 4,
     "metadata": {},
     "output_type": "execute_result"
    }
   ],
   "source": [
    "df.shape"
   ]
  },
  {
   "cell_type": "code",
   "execution_count": 5,
   "id": "56fe977c-f149-437e-a8f7-6cd758650111",
   "metadata": {},
   "outputs": [
    {
     "data": {
      "text/plain": [
       "StudentID     0\n",
       "FirstName     0\n",
       "FamilyName    0\n",
       "sex           0\n",
       "age           0\n",
       "address       0\n",
       "famsize       0\n",
       "Pstatus       0\n",
       "Medu          0\n",
       "Fedu          0\n",
       "Mjob          0\n",
       "Fjob          0\n",
       "reason        0\n",
       "guardian      0\n",
       "traveltime    0\n",
       "studytime     0\n",
       "failures      0\n",
       "schoolsup     0\n",
       "famsup        0\n",
       "paid          0\n",
       "activities    0\n",
       "nursery       0\n",
       "higher        0\n",
       "internet      0\n",
       "romantic      0\n",
       "famrel        0\n",
       "freetime      0\n",
       "goout         0\n",
       "Dalc          0\n",
       "Walc          0\n",
       "health        0\n",
       "absences      0\n",
       "FinalGrade    0\n",
       "dtype: int64"
      ]
     },
     "execution_count": 5,
     "metadata": {},
     "output_type": "execute_result"
    }
   ],
   "source": [
    "df.isna().sum()"
   ]
  },
  {
   "cell_type": "code",
   "execution_count": 6,
   "id": "0587e1d5-6be4-4bdc-be5d-70571c0be966",
   "metadata": {},
   "outputs": [
    {
     "data": {
      "text/plain": [
       "Medu\n",
       "4    125\n",
       "3     90\n",
       "2     89\n",
       "1     50\n",
       "0      3\n",
       "Name: count, dtype: int64"
      ]
     },
     "execution_count": 6,
     "metadata": {},
     "output_type": "execute_result"
    }
   ],
   "source": [
    "df.Medu.value_counts()"
   ]
  },
  {
   "cell_type": "code",
   "execution_count": 7,
   "id": "e45b61bf-bf8b-4365-9cf5-1f05808403e3",
   "metadata": {},
   "outputs": [
    {
     "data": {
      "text/plain": [
       "address\n",
       "U    279\n",
       "R     78\n",
       "Name: count, dtype: int64"
      ]
     },
     "execution_count": 7,
     "metadata": {},
     "output_type": "execute_result"
    }
   ],
   "source": [
    "df.address.value_counts()"
   ]
  },
  {
   "cell_type": "markdown",
   "id": "4ccd0a7f-d935-4c31-b754-73b7842816af",
   "metadata": {},
   "source": [
    "# Model "
   ]
  },
  {
   "cell_type": "code",
   "execution_count": 8,
   "id": "2f382a8e-aa8a-4da7-854f-66269ae93e36",
   "metadata": {},
   "outputs": [
    {
     "name": "stderr",
     "output_type": "stream",
     "text": [
      "/tmp/ipykernel_5013/1804370698.py:5: FutureWarning: Downcasting behavior in `replace` is deprecated and will be removed in a future version. To retain the old behavior, explicitly call `result.infer_objects(copy=False)`. To opt-in to the future behavior, set `pd.set_option('future.no_silent_downcasting', True)`\n",
      "  df.replace(replace_dict, inplace=True)\n"
     ]
    }
   ],
   "source": [
    "# Define a dictionary to map \"yes\" to 1 and \"no\" to 0\n",
    "replace_dict = {\"yes\": 1, \"no\": 0}\n",
    "\n",
    "# Replace \"yes\" and \"no\" with 1 and 0 in the entire DataFrame\n",
    "df.replace(replace_dict, inplace=True)"
   ]
  },
  {
   "cell_type": "code",
   "execution_count": 13,
   "id": "f9dc9b4f-5580-448b-8117-cdf9be6d98b9",
   "metadata": {},
   "outputs": [
    {
     "name": "stdout",
     "output_type": "stream",
     "text": [
      "Number of columns in X: 29\n",
      "Length of top_features: 15\n",
      "Top 10 features:\n",
      "failures\n",
      "schoolsup\n",
      "Mjob_services\n",
      "Fjob_teacher\n",
      "absences\n",
      "health\n",
      "internet\n",
      "Walc\n",
      "studytime\n",
      "Dalc\n",
      "reason_other\n",
      "famsize_LE3\n",
      "freetime\n",
      "goout\n",
      "sex_M\n"
     ]
    }
   ],
   "source": [
    "import numpy as np\n",
    "import pandas as pd\n",
    "from sklearn.model_selection import train_test_split\n",
    "from sklearn.compose import ColumnTransformer\n",
    "from sklearn.pipeline import Pipeline\n",
    "from sklearn.preprocessing import OneHotEncoder\n",
    "from xgboost import XGBRegressor\n",
    "from sklearn.metrics import mean_squared_error, mean_absolute_error, r2_score\n",
    "\n",
    "# Define columns to apply one-hot encoding\n",
    "columns_to_encode = ['sex', 'address', 'famsize', 'Pstatus', 'reason', 'guardian', 'Mjob', 'Fjob']\n",
    "\n",
    "# Define transformer for one-hot encoding\n",
    "encoder = OneHotEncoder(drop='first')\n",
    "\n",
    "# Define preprocessor for the pipeline\n",
    "preprocessor = ColumnTransformer(\n",
    "    transformers=[\n",
    "        ('onehot', encoder, columns_to_encode)\n",
    "    ],\n",
    "    remainder='passthrough'\n",
    ")\n",
    "\n",
    "# Define pipeline with preprocessor and model\n",
    "pipeline = Pipeline([\n",
    "    ('preprocessor', preprocessor),\n",
    "    ('model', XGBRegressor(\n",
    "        random_state=42,\n",
    "        n_estimators=100,  # Number of trees in the ensemble\n",
    "        max_depth=2,  # Maximum depth of each tree\n",
    "        learning_rate=0.1,  # Step size shrinkage used in update to prevent overfitting\n",
    "        min_child_weight=1,  # Minimum sum of instance weight (hessian) needed in a child\n",
    "        subsample=0.8,  # Subsample ratio of the training instance\n",
    "        colsample_bytree=0.8,  # Subsample ratio of columns when constructing each tree\n",
    "        reg_alpha=0,  # L1 regularization term on weights\n",
    "        reg_lambda=1,  # L2 regularization term on weights\n",
    "        gamma=0,  # Minimum loss reduction required to make a further partition on a leaf node of the tree\n",
    "        ))\n",
    "])\n",
    "\n",
    "# Split data into features and target variable\n",
    "X = df.drop(columns=['FinalGrade', 'StudentID', 'FirstName', 'FamilyName'])\n",
    "y = df['FinalGrade'].values\n",
    "\n",
    "# Split data into train and test sets\n",
    "X_train, X_test, y_train, y_test = train_test_split(X, y, test_size=0.3, random_state=42)\n",
    "\n",
    "# Fit the model on the training set\n",
    "pipeline.fit(X_train, y_train)\n",
    "\n",
    "# Retrieve feature importance\n",
    "feature_importance = pipeline.named_steps['model'].feature_importances_\n",
    "\n",
    "# Sort feature importance in descending order\n",
    "sorted_idx = np.argsort(feature_importance)[::-1]\n",
    "\n",
    "# Select top N features\n",
    "top_features = sorted_idx[:15]  # Change 10 to the number of top features you want to select\n",
    "\n",
    "# Print the number of columns in X and the length of top_features\n",
    "print(\"Number of columns in X:\", len(X.columns))\n",
    "print(\"Length of top_features:\", len(top_features))\n",
    "\n",
    "# Retrieve feature names after one-hot encoding\n",
    "one_hot_encoded_feature_names = preprocessor.transformers_[0][1].get_feature_names_out(input_features=columns_to_encode)\n",
    "remaining_feature_names = [col for col in X.columns if col not in columns_to_encode]\n",
    "feature_names = list(one_hot_encoded_feature_names) + remaining_feature_names\n",
    "\n",
    "# Print top features if there are no issues with indices\n",
    "if len(top_features) <= len(feature_names):\n",
    "    print(\"Top 10 features:\")\n",
    "    for i in top_features:\n",
    "        print(feature_names[i])\n",
    "else:\n",
    "    print(\"Error: Top feature indices exceed the number of columns after one-hot encoding.\")"
   ]
  },
  {
   "cell_type": "code",
   "execution_count": 14,
   "id": "15f71440-2134-4c6e-b46d-2005bfa960a0",
   "metadata": {},
   "outputs": [
    {
     "name": "stderr",
     "output_type": "stream",
     "text": [
      "/home/adelchiasta/venv/venv_ekinox/lib64/python3.11/site-packages/sklearn/metrics/_regression.py:483: FutureWarning: 'squared' is deprecated in version 1.4 and will be removed in 1.6. To calculate the root mean squared error, use the function'root_mean_squared_error'.\n",
      "  warnings.warn(\n",
      "/home/adelchiasta/venv/venv_ekinox/lib64/python3.11/site-packages/sklearn/metrics/_regression.py:483: FutureWarning: 'squared' is deprecated in version 1.4 and will be removed in 1.6. To calculate the root mean squared error, use the function'root_mean_squared_error'.\n",
      "  warnings.warn(\n"
     ]
    }
   ],
   "source": [
    "# Make predictions on both train and test sets\n",
    "y_train_pred = pipeline.predict(X_train)\n",
    "y_test_pred = pipeline.predict(X_test)\n",
    "\n",
    "# Calculate evaluation metrics for train set\n",
    "train_rmse = mean_squared_error(y_train, y_train_pred, squared=False)\n",
    "train_mae = mean_absolute_error(y_train, y_train_pred)\n",
    "train_r2 = r2_score(y_train, y_train_pred)\n",
    "train_mse = mean_squared_error(y_train, y_train_pred)\n",
    "\n",
    "# Calculate evaluation metrics for test set\n",
    "test_rmse = mean_squared_error(y_test, y_test_pred, squared=False)\n",
    "test_mae = mean_absolute_error(y_test, y_test_pred)\n",
    "test_r2 = r2_score(y_test, y_test_pred)\n",
    "test_mse = mean_squared_error(y_test, y_test_pred)\n",
    "\n",
    "# Create DataFrame with metrics\n",
    "metrics_df = pd.DataFrame({\n",
    "    'Set': ['Train', 'Test'],\n",
    "    'RMSE': [train_rmse, test_rmse],\n",
    "    'MAE': [train_mae, test_mae],\n",
    "    'R2': [train_r2, test_r2],\n",
    "    'MSE': [train_mse, test_mse]\n",
    "})"
   ]
  },
  {
   "cell_type": "code",
   "execution_count": 15,
   "id": "eadcb53b-207d-498d-b328-83d58bb94c52",
   "metadata": {},
   "outputs": [
    {
     "data": {
      "text/html": [
       "<div>\n",
       "<style scoped>\n",
       "    .dataframe tbody tr th:only-of-type {\n",
       "        vertical-align: middle;\n",
       "    }\n",
       "\n",
       "    .dataframe tbody tr th {\n",
       "        vertical-align: top;\n",
       "    }\n",
       "\n",
       "    .dataframe thead th {\n",
       "        text-align: right;\n",
       "    }\n",
       "</style>\n",
       "<table border=\"1\" class=\"dataframe\">\n",
       "  <thead>\n",
       "    <tr style=\"text-align: right;\">\n",
       "      <th></th>\n",
       "      <th>Set</th>\n",
       "      <th>RMSE</th>\n",
       "      <th>MAE</th>\n",
       "      <th>R2</th>\n",
       "      <th>MSE</th>\n",
       "    </tr>\n",
       "  </thead>\n",
       "  <tbody>\n",
       "    <tr>\n",
       "      <th>0</th>\n",
       "      <td>Train</td>\n",
       "      <td>2.100633</td>\n",
       "      <td>1.695108</td>\n",
       "      <td>0.579648</td>\n",
       "      <td>4.412659</td>\n",
       "    </tr>\n",
       "    <tr>\n",
       "      <th>1</th>\n",
       "      <td>Test</td>\n",
       "      <td>2.856834</td>\n",
       "      <td>2.308550</td>\n",
       "      <td>0.192819</td>\n",
       "      <td>8.161498</td>\n",
       "    </tr>\n",
       "  </tbody>\n",
       "</table>\n",
       "</div>"
      ],
      "text/plain": [
       "     Set      RMSE       MAE        R2       MSE\n",
       "0  Train  2.100633  1.695108  0.579648  4.412659\n",
       "1   Test  2.856834  2.308550  0.192819  8.161498"
      ]
     },
     "execution_count": 15,
     "metadata": {},
     "output_type": "execute_result"
    }
   ],
   "source": [
    "metrics_df"
   ]
  },
  {
   "cell_type": "code",
   "execution_count": 16,
   "id": "81aecbdc-9ae4-4f58-a0f1-eabcb8059b64",
   "metadata": {},
   "outputs": [
    {
     "data": {
      "image/png": "[encoded data removed]",
      "text/plain": [
       "<Figure size 1000x600 with 1 Axes>"
      ]
     },
     "metadata": {},
     "output_type": "display_data"
    }
   ],
   "source": [
    "import matplotlib.pyplot as plt\n",
    "\n",
    "# Plot feature importance\n",
    "plt.figure(figsize=(10, 6))\n",
    "plt.title(\"Feature Importance\")\n",
    "plt.bar(range(len(top_features)), feature_importance[top_features], align=\"center\")\n",
    "plt.xticks(range(len(top_features)), [feature_names[i] for i in top_features], rotation=45, ha='right')\n",
    "plt.xlabel(\"Features\")\n",
    "plt.ylabel(\"Importance\")\n",
    "plt.show()\n"
   ]
  },
  {
   "cell_type": "markdown",
   "id": "97453fac-353f-4976-b3dd-5cc3aff65ee7",
   "metadata": {},
   "source": [
    "## Composite score "
   ]
  },
  {
   "cell_type": "code",
   "execution_count": 49,
   "id": "6d832465-9b7b-4ab6-a6c1-1c21192c9db7",
   "metadata": {},
   "outputs": [],
   "source": [
    "# # Select only numerical columns for normalization\n",
    "numerical_data = df.select_dtypes(include=['number'])\n",
    "# Normalize each indicator to a scale of 0 to 1\n",
    "max_values = numerical_data.max()\n",
    "min_values = numerical_data.min()\n",
    "normalized_data = (numerical_data - min_values) / (max_values - min_values)\n",
    "\n",
    "# Retrieve feature names after one-hot encoding\n",
    "one_hot_encoded_feature_names = preprocessor.transformers_[0][1].get_feature_names_out(input_features=columns_to_encode)\n",
    "remaining_feature_names = [col for col in X.columns if col not in columns_to_encode]\n",
    "feature_names = list(one_hot_encoded_feature_names) + remaining_feature_names\n",
    "\n",
    "# Update the weights based on feature importances\n",
    "weights = dict(zip([feature_names[i] for i in top_features], feature_importance[top_features]))\n",
    "\n",
    "# Normalize the weights\n",
    "total_importance = sum(weights.values())\n",
    "for feature in weights:\n",
    "    weights[feature] /= total_importance\n",
    "\n",
    "# Compute the composite score using the updated weights\n",
    "composite_score = (normalized_data * pd.Series(weights)).sum(axis=1)\n",
    "\n",
    "# Add the composite score as a new column to your DataFrame\n",
    "df['composite_score'] = composite_score"
   ]
  },
  {
   "cell_type": "code",
   "execution_count": 50,
   "id": "113ca80f-f75b-4034-9612-10242091ff9d",
   "metadata": {},
   "outputs": [
    {
     "data": {
      "text/plain": [
       "{'failures': 0.11825925619861061,\n",
       " 'schoolsup': 0.08709928865177899,\n",
       " 'Mjob_services': 0.08459508568157457,\n",
       " 'Fjob_teacher': 0.06954763192797934,\n",
       " 'absences': 0.06899698112695013,\n",
       " 'health': 0.06788748604719026,\n",
       " 'internet': 0.06692290811760764,\n",
       " 'Walc': 0.06554818372034356,\n",
       " 'studytime': 0.060020955724493334,\n",
       " 'Dalc': 0.05801396489588255,\n",
       " 'reason_other': 0.053130081404226315,\n",
       " 'famsize_LE3': 0.05199398053732354,\n",
       " 'freetime': 0.04971951408945669,\n",
       " 'goout': 0.04927864668347218,\n",
       " 'sex_M': 0.04898603519311028}"
      ]
     },
     "execution_count": 50,
     "metadata": {},
     "output_type": "execute_result"
    }
   ],
   "source": [
    "weights"
   ]
  }
 ],
 "metadata": {
  "kernelspec": {
   "display_name": "Python 3 (ipykernel)",
   "language": "python",
   "name": "python3"
  },
  "language_info": {
   "codemirror_mode": {
    "name": "ipython",
    "version": 3
   },
   "file_extension": ".py",
   "mimetype": "text/x-python",
   "name": "python",
   "nbconvert_exporter": "python",
   "pygments_lexer": "ipython3",
   "version": "3.11.7"
  }
 },
 "nbformat": 4,
 "nbformat_minor": 5
}
